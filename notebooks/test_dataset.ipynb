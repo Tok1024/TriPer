{
 "cells": [
  {
   "cell_type": "code",
   "execution_count": null,
   "id": "a99339ad",
   "metadata": {},
   "outputs": [
    {
     "name": "stderr",
     "output_type": "stream",
     "text": [
      "/home/wly/.conda/envs/triper/lib/python3.10/site-packages/tqdm/auto.py:21: TqdmWarning: IProgress not found. Please update jupyter and ipywidgets. See https://ipywidgets.readthedocs.io/en/stable/user_install.html\n",
      "  from .autonotebook import tqdm as notebook_tqdm\n"
     ]
    }
   ],
   "source": [
    "import os\n",
    "import sys\n",
    "sys.path.append('/home/wly/szl_all_code/triper-project')\n"
   ]
  },
  {
   "cell_type": "code",
   "execution_count": null,
   "id": "b3903bea",
   "metadata": {},
   "outputs": [
    {
     "ename": "NameError",
     "evalue": "name 'your_image_processor' is not defined",
     "output_type": "error",
     "traceback": [
      "\u001b[0;31m---------------------------------------------------------------------------\u001b[0m",
      "\u001b[0;31mNameError\u001b[0m                                 Traceback (most recent call last)",
      "Cell \u001b[0;32mIn[2], line 5\u001b[0m\n\u001b[1;32m      1\u001b[0m \u001b[38;5;66;03m# 创建数据集实例\u001b[39;00m\n\u001b[1;32m      2\u001b[0m dataset \u001b[38;5;241m=\u001b[39m TriperDataset(\n\u001b[1;32m      3\u001b[0m     json_path\u001b[38;5;241m=\u001b[39m\u001b[38;5;124m\"\u001b[39m\u001b[38;5;124m/home/wly/szl_all_code/triper-project/data/simple_data_20_samples.json\u001b[39m\u001b[38;5;124m\"\u001b[39m,\n\u001b[1;32m      4\u001b[0m     media_root_path\u001b[38;5;241m=\u001b[39m\u001b[38;5;124m\"\u001b[39m\u001b[38;5;124m/path/to/media/files\u001b[39m\u001b[38;5;124m\"\u001b[39m,\n\u001b[0;32m----> 5\u001b[0m     image_processor\u001b[38;5;241m=\u001b[39m\u001b[43myour_image_processor\u001b[49m,\n\u001b[1;32m      6\u001b[0m     audio_processor\u001b[38;5;241m=\u001b[39myour_audio_processor\n\u001b[1;32m      7\u001b[0m )\n\u001b[1;32m      9\u001b[0m \u001b[38;5;66;03m# 获取单个样本\u001b[39;00m\n\u001b[1;32m     10\u001b[0m sample \u001b[38;5;241m=\u001b[39m dataset[\u001b[38;5;241m0\u001b[39m]\n",
      "\u001b[0;31mNameError\u001b[0m: name 'your_image_processor' is not defined"
     ]
    }
   ],
   "source": [
    "from triper.data.triper_dataset import TriperDataset\n",
    "# 创建数据集实例\n",
    "dataset = TriperDataset(\n",
    "    json_path=\"/home/wly/szl_all_code/triper-project/data/simple_data_20_samples.json\",\n",
    "    media_root_path=\"/path/to/media/files\",\n",
    "    image_processor=your_image_processor,\n",
    "    audio_processor=your_audio_processor\n",
    ")\n",
    "\n",
    "# 获取单个样本\n",
    "sample = dataset[0]\n",
    "\n",
    "# 验证数据集\n",
    "stats = dataset.validate_dataset()\n",
    "print(stats)"
   ]
  }
 ],
 "metadata": {
  "kernelspec": {
   "display_name": "triper",
   "language": "python",
   "name": "python3"
  },
  "language_info": {
   "codemirror_mode": {
    "name": "ipython",
    "version": 3
   },
   "file_extension": ".py",
   "mimetype": "text/x-python",
   "name": "python",
   "nbconvert_exporter": "python",
   "pygments_lexer": "ipython3",
   "version": "3.10.18"
  }
 },
 "nbformat": 4,
 "nbformat_minor": 5
}
